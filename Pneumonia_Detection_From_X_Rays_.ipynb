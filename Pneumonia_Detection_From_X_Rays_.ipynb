{
  "nbformat": 4,
  "nbformat_minor": 0,
  "metadata": {
    "colab": {
      "private_outputs": true,
      "provenance": [],
      "gpuType": "T4"
    },
    "kernelspec": {
      "name": "python3",
      "display_name": "Python 3"
    },
    "language_info": {
      "name": "python"
    },
    "accelerator": "GPU"
  },
  "cells": [
    {
      "cell_type": "markdown",
      "source": [
        "## Curating Data From Kaggle to Colab"
      ],
      "metadata": {
        "id": "RElfaGPJY_eB"
      }
    },
    {
      "cell_type": "code",
      "execution_count": null,
      "metadata": {
        "id": "wFhy7egn1qJT"
      },
      "outputs": [],
      "source": [
        "!pip install -q kaggle"
      ]
    },
    {
      "cell_type": "code",
      "source": [
        "from google.colab import files\n",
        "files.upload()"
      ],
      "metadata": {
        "id": "yWMjfJJ48go7"
      },
      "execution_count": null,
      "outputs": []
    },
    {
      "cell_type": "code",
      "source": [
        "!mkdir ~/.kaggle"
      ],
      "metadata": {
        "id": "paNAm4i-8sKH"
      },
      "execution_count": null,
      "outputs": []
    },
    {
      "cell_type": "code",
      "source": [
        "!cp kaggle.json ~/.kaggle/"
      ],
      "metadata": {
        "id": "F2Pb2XbpAMm-"
      },
      "execution_count": null,
      "outputs": []
    },
    {
      "cell_type": "code",
      "source": [
        "!chmod 600 ~/.kaggle/kaggle.json"
      ],
      "metadata": {
        "id": "dN7ZAME-AWBI"
      },
      "execution_count": null,
      "outputs": []
    },
    {
      "cell_type": "code",
      "source": [
        "!kaggle datasets download -d paultimothymooney/chest-xray-pneumonia"
      ],
      "metadata": {
        "id": "Qn2OB402A4gs"
      },
      "execution_count": null,
      "outputs": []
    },
    {
      "cell_type": "code",
      "source": [
        "!unzip chest-xray-pneumonia.zip"
      ],
      "metadata": {
        "id": "2U4j0HUwBjDZ"
      },
      "execution_count": null,
      "outputs": []
    },
    {
      "cell_type": "markdown",
      "source": [
        "## Importing Dependencies"
      ],
      "metadata": {
        "id": "IgdyQ5ELZFjZ"
      }
    },
    {
      "cell_type": "code",
      "source": [
        "import numpy as np\n",
        "import matplotlib.pyplot as plt\n",
        "\n",
        "import keras\n",
        "from keras.layers import Dense, Conv2D, MaxPool2D,GlobalAveragePooling2D, Dropout, Flatten\n",
        "from keras.models import Sequential\n",
        "from keras.preprocessing import image"
      ],
      "metadata": {
        "id": "RlpEDvcRK0-I"
      },
      "execution_count": null,
      "outputs": []
    },
    {
      "cell_type": "markdown",
      "source": [
        "## Loading Data"
      ],
      "metadata": {
        "id": "BD__SQDmZMUo"
      }
    },
    {
      "cell_type": "code",
      "source": [
        "train_datagen = image.ImageDataGenerator(\n",
        "    rescale = 1/255,\n",
        "    horizontal_flip = True,\n",
        "    zoom_range = 0.2,\n",
        "    shear_range = 0.2\n",
        ")\n",
        "\n",
        "train_data = train_datagen.flow_from_directory(directory=\"/content/chest_xray/chest_xray/train\",\n",
        "                                               target_size = (256, 256),\n",
        "                                               batch_size = 16,\n",
        "                                               class_mode = \"binary\")"
      ],
      "metadata": {
        "id": "l6QaXmrmPPek"
      },
      "execution_count": null,
      "outputs": []
    },
    {
      "cell_type": "code",
      "source": [
        "train_data.class_indices"
      ],
      "metadata": {
        "id": "54Oqp4P5MugU"
      },
      "execution_count": null,
      "outputs": []
    },
    {
      "cell_type": "code",
      "source": [
        "test_datagen = image.ImageDataGenerator(\n",
        "    rescale = 1/255\n",
        ")\n",
        "\n",
        "test_data = test_datagen.flow_from_directory(directory=\"/content/chest_xray/chest_xray/test\",\n",
        "                                             target_size = (256, 256),\n",
        "                                             batch_size = 16,\n",
        "                                               class_mode = \"binary\")"
      ],
      "metadata": {
        "id": "nYbaMyKUM3Um"
      },
      "execution_count": null,
      "outputs": []
    },
    {
      "cell_type": "code",
      "source": [
        "test_data.class_indices"
      ],
      "metadata": {
        "id": "gLVA5-EjNSv3"
      },
      "execution_count": null,
      "outputs": []
    },
    {
      "cell_type": "markdown",
      "source": [
        "## CNN MODEL"
      ],
      "metadata": {
        "id": "fKzRsTAgNhUI"
      }
    },
    {
      "cell_type": "code",
      "source": [
        "model = Sequential()\n",
        "\n",
        "model.add(Conv2D(filters= 32, kernel_size=(3,3),activation=\"relu\",input_shape=(256,256,3)))\n",
        "\n",
        "model.add(Conv2D(filters= 64, kernel_size=(3,3),activation=\"relu\"))\n",
        "model.add(MaxPool2D())\n",
        "model.add(Dropout(rate=0.25))\n",
        "\n",
        "model.add(Conv2D(filters= 128, kernel_size=(3,3),activation=\"relu\"))\n",
        "model.add(MaxPool2D())\n",
        "model.add(Dropout(rate=0.25))\n",
        "\n",
        "model.add(Conv2D(filters= 256, kernel_size=(3,3),activation=\"relu\"))\n",
        "model.add(MaxPool2D())\n",
        "model.add(Dropout(rate=0.25))\n",
        "\n",
        "model.add(Flatten())\n",
        "model.add(Dense(units=128, activation=\"relu\"))\n",
        "model.add(Dropout(rate=0.50))\n",
        "model.add(Dense(units=1, activation = \"sigmoid\"))\n",
        "\n",
        "\n",
        "model.compile(loss=keras.losses.binary_focal_crossentropy, optimizer = \"adam\", metrics = [\"acc\"])"
      ],
      "metadata": {
        "id": "O-nahODrNb__"
      },
      "execution_count": null,
      "outputs": []
    },
    {
      "cell_type": "code",
      "source": [
        "model.summary()"
      ],
      "metadata": {
        "id": "kHGNMZWGQhTo"
      },
      "execution_count": null,
      "outputs": []
    },
    {
      "cell_type": "code",
      "source": [
        "model.fit_generator(train_data, steps_per_epoch= 10, epochs = 15, validation_steps =2,\n",
        "                    validation_data = test_data)"
      ],
      "metadata": {
        "id": "FvX-cukjRmoI"
      },
      "execution_count": null,
      "outputs": []
    },
    {
      "cell_type": "markdown",
      "source": [
        "## Prediction on Sample Images"
      ],
      "metadata": {
        "id": "t1sxZzVMSdBx"
      }
    },
    {
      "cell_type": "code",
      "source": [
        "!pip install utils"
      ],
      "metadata": {
        "id": "gn1DOZJwTu4l"
      },
      "execution_count": null,
      "outputs": []
    },
    {
      "cell_type": "code",
      "source": [
        "import tensorflow as tf\n",
        "\n",
        "def load_image(path):\n",
        "    \"\"\"Loads an image from the specified path.\"\"\"\n",
        "    img = tf.io.read_file(path)\n",
        "    img = tf.image.decode_jpeg(img, channels=3)\n",
        "    img = tf.image.convert_image_dtype(img, tf.float32)\n",
        "    img = tf.image.resize([img], (256, 256))\n",
        "    img = img / 255.0\n",
        "    return img\n",
        "\n",
        "\n",
        "img = load_image(\"/content/chest_xray/chest_xray/train/PNEUMONIA/person1002_bacteria_2933.jpeg\")\n",
        "print(img.shape)\n",
        "predictions = model.predict(img)\n",
        "predicted_class = np.argmax(predictions[0])\n",
        "print(predicted_class)\n"
      ],
      "metadata": {
        "id": "QGGxMzrTUm62"
      },
      "execution_count": null,
      "outputs": []
    },
    {
      "cell_type": "markdown",
      "source": [
        "## Prediction On NORMAL"
      ],
      "metadata": {
        "id": "1o1I0ZRsatjx"
      }
    },
    {
      "cell_type": "code",
      "source": [
        "def read_images_from_folder(folder):\n",
        "    \"\"\"Reads all the images from the specified folder.\"\"\"\n",
        "    for img_path in os.listdir(folder):\n",
        "        img = load_image(os.path.join(folder, img_path))\n",
        "        yield img\n",
        "\n",
        "\n",
        "if __name__ == \"__main__\":\n",
        "    folder = \"/content/chest_xray/val/NORMAL\"\n",
        "    for img in read_images_from_folder(folder):\n",
        "        print(img.shape)\n",
        "        predictions = model.predict(img)\n",
        "        predicted_class = np.argmax(predictions[0])\n",
        "        print(predicted_class)\n"
      ],
      "metadata": {
        "id": "G6HGsBvCX4nk"
      },
      "execution_count": null,
      "outputs": []
    }
  ]
}